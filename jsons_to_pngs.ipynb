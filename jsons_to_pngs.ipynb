{
 "cells": [
  {
   "cell_type": "markdown",
   "metadata": {},
   "source": [
    "This notebook works with data downloaded from the ARC challenge: https://www.kaggle.com/c/abstraction-and-reasoning-challenge/data\n",
    "\n",
    "Below code converts input samples in .json format to visible and editable png files."
   ]
  },
  {
   "cell_type": "code",
   "execution_count": 144,
   "metadata": {},
   "outputs": [
    {
     "name": "stdout",
     "output_type": "stream",
     "text": [
      "/home/ruslan/i/abstraction-and-reasoning-challenge\n",
      "evaluation  jsons_to_pngs.ipynb  sample_submission.csv\ttest  training\n",
      "evaluation  jsons_to_pngs.ipynb  pngs  sample_submission.csv  test  training\n"
     ]
    }
   ],
   "source": [
    "!pwd\n",
    "!ls\n",
    "# make dir for output files\n",
    "!mkdir -p pngs\n",
    "!ls"
   ]
  },
  {
   "cell_type": "code",
   "execution_count": 136,
   "metadata": {},
   "outputs": [],
   "source": [
    "import numpy as np\n",
    "# pandas\n",
    "\n",
    "import os\n",
    "import json\n",
    "from pathlib import Path\n",
    "\n",
    "import matplotlib.pyplot as plt\n",
    "from PIL import Image"
   ]
  },
  {
   "cell_type": "code",
   "execution_count": null,
   "metadata": {},
   "outputs": [],
   "source": [
    "data_path = Path('.')\n",
    "train_path = data_path / 'training'\n",
    "#eval_path = data_path / 'evaluation'\n",
    "test_path = data_path / 'test'\n",
    "\n",
    "# credits: https://www.kaggle.com/boliu0/visualizing-all-task-pairs-with-gridlines\n",
    "train_tasks = sorted(os.listdir(train_path))\n",
    "eval_tasks = sorted(os.listdir(eval_path))\n",
    "\n",
    "pngs_path = Path('pngs')"
   ]
  },
  {
   "cell_type": "code",
   "execution_count": 137,
   "metadata": {},
   "outputs": [],
   "source": [
    "paints = {\n",
    "    0: [  0,  0,  0], # black\n",
    "    1: [255,  0,  0], # red\n",
    "    2: [  0,255,  0], # green\n",
    "    3: [  0,  0,255], # blue\n",
    "    4: [255,255,  0], # yellow\n",
    "    5: [  0,255,255], # cyan \n",
    "    6: [255,  0,255], # magneta\n",
    "    7: [255,102,  0], # orange\n",
    "    8: [ 51,153,192], # jade\n",
    "    9: [128,128,128], # grey \n",
    "}"
   ]
  },
  {
   "cell_type": "code",
   "execution_count": 139,
   "metadata": {},
   "outputs": [],
   "source": [
    "def to_png_and_save(name, savename='rectangle.png'):\n",
    "    rect = samp.get(name)\n",
    "    rect = [[paints.get(p) for p in pp] for pp in rect]\n",
    "    rect = np.array(rect, dtype=np.uint8)\n",
    "    rect = Image.fromarray(rect)\n",
    "    img_path = task_dir / savename\n",
    "    rect.save(img_path)\n",
    "\n",
    "for i, (train_task, eval_task) in enumerate(zip(train_tasks, eval_tasks)):\n",
    "    task_dir = pngs_path / str(i)\n",
    "    Path(task_dir).mkdir(parents=True, exist_ok=True)\n",
    "    \n",
    "    with open(train_path / train_task, 'r') as j:\n",
    "        task_d = json.loads(j.read())\n",
    "    \n",
    "    for i, samp in enumerate(task_d.get('test'), 1):\n",
    "        \n",
    "        to_png_and_save('input',  ('in_'+str(i)+'.png'))\n",
    "        to_png_and_save('output', ('out_'+str(i)+'.png'))\n",
    "\n",
    "    \n",
    "    for j, samp in enumerate(task_d.get('train'), 1):\n",
    "        to_png_and_save('input',  ('in_'+str(i+j)+'.png'))\n",
    "        to_png_and_save('output', ('out_'+str(i+j)+'.png'))"
   ]
  }
 ],
 "metadata": {
  "kernelspec": {
   "display_name": "Python 3",
   "language": "python",
   "name": "python3"
  },
  "language_info": {
   "codemirror_mode": {
    "name": "ipython",
    "version": 3
   },
   "file_extension": ".py",
   "mimetype": "text/x-python",
   "name": "python",
   "nbconvert_exporter": "python",
   "pygments_lexer": "ipython3",
   "version": "3.7.6"
  }
 },
 "nbformat": 4,
 "nbformat_minor": 4
}
